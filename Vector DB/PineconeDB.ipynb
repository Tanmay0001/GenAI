{
 "cells": [
  {
   "cell_type": "code",
   "execution_count": null,
   "id": "0c8c16c4-60cb-4dd7-ae78-81cdd10500fd",
   "metadata": {},
   "outputs": [],
   "source": []
  },
  {
   "cell_type": "code",
   "execution_count": 2,
   "id": "919329dc-edcd-40a5-af77-d90d95deb610",
   "metadata": {},
   "outputs": [
    {
     "name": "stdout",
     "output_type": "stream",
     "text": [
      "Collecting pinecone-client\n",
      "  Downloading pinecone_client-5.0.1-py3-none-any.whl.metadata (19 kB)\n",
      "Requirement already satisfied: certifi>=2019.11.17 in c:\\users\\tanmay mishra\\anaconda3\\lib\\site-packages (from pinecone-client) (2024.2.2)\n",
      "Collecting pinecone-plugin-inference<2.0.0,>=1.0.3 (from pinecone-client)\n",
      "  Downloading pinecone_plugin_inference-1.1.0-py3-none-any.whl.metadata (2.2 kB)\n",
      "Collecting pinecone-plugin-interface<0.0.8,>=0.0.7 (from pinecone-client)\n",
      "  Downloading pinecone_plugin_interface-0.0.7-py3-none-any.whl.metadata (1.2 kB)\n",
      "Requirement already satisfied: tqdm>=4.64.1 in c:\\users\\tanmay mishra\\anaconda3\\lib\\site-packages (from pinecone-client) (4.65.0)\n",
      "Requirement already satisfied: typing-extensions>=3.7.4 in c:\\users\\tanmay mishra\\anaconda3\\lib\\site-packages (from pinecone-client) (4.9.0)\n",
      "Requirement already satisfied: urllib3>=1.26.0 in c:\\users\\tanmay mishra\\anaconda3\\lib\\site-packages (from pinecone-client) (2.0.7)\n",
      "Requirement already satisfied: colorama in c:\\users\\tanmay mishra\\anaconda3\\lib\\site-packages (from tqdm>=4.64.1->pinecone-client) (0.4.6)\n",
      "Downloading pinecone_client-5.0.1-py3-none-any.whl (244 kB)\n",
      "   ---------------------------------------- 0.0/244.8 kB ? eta -:--:--\n",
      "   - -------------------------------------- 10.2/244.8 kB ? eta -:--:--\n",
      "   --------------- ------------------------ 92.2/244.8 kB 1.0 MB/s eta 0:00:01\n",
      "   -------------------------------------- - 235.5/244.8 kB 1.8 MB/s eta 0:00:01\n",
      "   ---------------------------------------- 244.8/244.8 kB 1.4 MB/s eta 0:00:00\n",
      "Downloading pinecone_plugin_inference-1.1.0-py3-none-any.whl (85 kB)\n",
      "   ---------------------------------------- 0.0/85.4 kB ? eta -:--:--\n",
      "   -------------------------------------- - 81.9/85.4 kB 2.3 MB/s eta 0:00:01\n",
      "   ---------------------------------------- 85.4/85.4 kB 1.6 MB/s eta 0:00:00\n",
      "Downloading pinecone_plugin_interface-0.0.7-py3-none-any.whl (6.2 kB)\n",
      "Installing collected packages: pinecone-plugin-interface, pinecone-plugin-inference, pinecone-client\n",
      "Successfully installed pinecone-client-5.0.1 pinecone-plugin-inference-1.1.0 pinecone-plugin-interface-0.0.7\n"
     ]
    }
   ],
   "source": [
    "!pip install pinecone-client"
   ]
  },
  {
   "cell_type": "code",
   "execution_count": 3,
   "id": "f45ec363-b95e-40cf-bd0b-c64c2a53366d",
   "metadata": {},
   "outputs": [
    {
     "name": "stdout",
     "output_type": "stream",
     "text": [
      "Requirement already satisfied: pinecone-client[grpc] in c:\\users\\tanmay mishra\\anaconda3\\lib\\site-packages (5.0.1)\n",
      "Requirement already satisfied: certifi>=2019.11.17 in c:\\users\\tanmay mishra\\anaconda3\\lib\\site-packages (from pinecone-client[grpc]) (2024.2.2)\n",
      "Collecting googleapis-common-protos>=1.53.0 (from pinecone-client[grpc])\n",
      "  Downloading googleapis_common_protos-1.65.0-py2.py3-none-any.whl.metadata (1.5 kB)\n",
      "Requirement already satisfied: grpcio>=1.59.0 in c:\\users\\tanmay mishra\\anaconda3\\lib\\site-packages (from pinecone-client[grpc]) (1.65.4)\n",
      "Requirement already satisfied: lz4>=3.1.3 in c:\\users\\tanmay mishra\\anaconda3\\lib\\site-packages (from pinecone-client[grpc]) (4.3.2)\n",
      "Requirement already satisfied: pinecone-plugin-inference<2.0.0,>=1.0.3 in c:\\users\\tanmay mishra\\anaconda3\\lib\\site-packages (from pinecone-client[grpc]) (1.1.0)\n",
      "Requirement already satisfied: pinecone-plugin-interface<0.0.8,>=0.0.7 in c:\\users\\tanmay mishra\\anaconda3\\lib\\site-packages (from pinecone-client[grpc]) (0.0.7)\n",
      "Collecting protobuf<5.0,>=4.25 (from pinecone-client[grpc])\n",
      "  Downloading protobuf-4.25.5-cp310-abi3-win_amd64.whl.metadata (541 bytes)\n",
      "Collecting protoc-gen-openapiv2<0.0.2,>=0.0.1 (from pinecone-client[grpc])\n",
      "  Downloading protoc_gen_openapiv2-0.0.1-py3-none-any.whl.metadata (1.5 kB)\n",
      "Requirement already satisfied: tqdm>=4.64.1 in c:\\users\\tanmay mishra\\anaconda3\\lib\\site-packages (from pinecone-client[grpc]) (4.65.0)\n",
      "Requirement already satisfied: typing-extensions>=3.7.4 in c:\\users\\tanmay mishra\\anaconda3\\lib\\site-packages (from pinecone-client[grpc]) (4.9.0)\n",
      "Requirement already satisfied: urllib3>=1.26.0 in c:\\users\\tanmay mishra\\anaconda3\\lib\\site-packages (from pinecone-client[grpc]) (2.0.7)\n",
      "Requirement already satisfied: colorama in c:\\users\\tanmay mishra\\anaconda3\\lib\\site-packages (from tqdm>=4.64.1->pinecone-client[grpc]) (0.4.6)\n",
      "Downloading googleapis_common_protos-1.65.0-py2.py3-none-any.whl (220 kB)\n",
      "   ---------------------------------------- 0.0/220.9 kB ? eta -:--:--\n",
      "   ---------------------------------------- 0.0/220.9 kB ? eta -:--:--\n",
      "   - -------------------------------------- 10.2/220.9 kB ? eta -:--:--\n",
      "   ------- ------------------------------- 41.0/220.9 kB 393.8 kB/s eta 0:00:01\n",
      "   ------------------- ------------------ 112.6/220.9 kB 939.4 kB/s eta 0:00:01\n",
      "   -------------------------------------- - 215.0/220.9 kB 1.3 MB/s eta 0:00:01\n",
      "   ---------------------------------------- 220.9/220.9 kB 1.1 MB/s eta 0:00:00\n",
      "Downloading protobuf-4.25.5-cp310-abi3-win_amd64.whl (413 kB)\n",
      "   ---------------------------------------- 0.0/413.4 kB ? eta -:--:--\n",
      "   ------------------ --------------------- 194.6/413.4 kB 5.9 MB/s eta 0:00:01\n",
      "   ----------------------------------- ---- 368.6/413.4 kB 4.6 MB/s eta 0:00:01\n",
      "   ---------------------------------------- 413.4/413.4 kB 3.7 MB/s eta 0:00:00\n",
      "Downloading protoc_gen_openapiv2-0.0.1-py3-none-any.whl (7.9 kB)\n",
      "Installing collected packages: protobuf, googleapis-common-protos, protoc-gen-openapiv2\n",
      "  Attempting uninstall: protobuf\n",
      "    Found existing installation: protobuf 3.20.3\n",
      "    Uninstalling protobuf-3.20.3:\n",
      "      Successfully uninstalled protobuf-3.20.3\n",
      "Successfully installed googleapis-common-protos-1.65.0 protobuf-4.25.5 protoc-gen-openapiv2-0.0.1\n"
     ]
    }
   ],
   "source": [
    "!pip install pinecone-client[grpc]"
   ]
  },
  {
   "cell_type": "code",
   "execution_count": 8,
   "id": "d2051e9d-3766-49e4-913c-3b65ffe86793",
   "metadata": {},
   "outputs": [],
   "source": [
    "from pinecone import Pinecone, ServerlessSpec\n",
    "\n",
    "# Initialize Pinecone with the API key\n",
    "pc = Pinecone(\"pcsk_2UL2vU_Era2wsy7zH92QHF7hyYmRXDTdBFwUHvJUeveXA2oTZUpBT6JBmhL3ufpFCJqsh7\")\n"
   ]
  },
  {
   "cell_type": "code",
   "execution_count": 33,
   "id": "5c8b2a74-7122-4cb7-b275-944a2ba3ffe7",
   "metadata": {},
   "outputs": [],
   "source": [
    "from pinecone import ServerlessSpec\n",
    "\n",
    "# Create a new index\n",
    "pc.create_index(\n",
    "    name='my-index-tanmay',  # Name changed to lowercase with a hyphen\n",
    "    dimension=1536,\n",
    "    metric='euclidean',\n",
    "    spec=ServerlessSpec(\n",
    "        cloud='aws',\n",
    "        region='us-east-1'  # Change to a supported region\n",
    "    )\n",
    ")\n"
   ]
  },
  {
   "cell_type": "code",
   "execution_count": 34,
   "id": "ebce6fef-c7a0-4709-8290-5ea180fe06d3",
   "metadata": {},
   "outputs": [],
   "source": [
    "# Create another new index\n",
    "pc.create_index(\n",
    "    name='simpleindextanmay',  # Name changed to lowercase with a hyphen\n",
    "    dimension=8,\n",
    "    metric='euclidean',\n",
    "    spec=ServerlessSpec(\n",
    "        cloud='aws',\n",
    "        region='us-east-1'  \n",
    "    )\n",
    ")"
   ]
  },
  {
   "cell_type": "code",
   "execution_count": 35,
   "id": "37e725e9-7298-4a7a-a2f9-580fa9ee55a8",
   "metadata": {},
   "outputs": [],
   "source": [
    "# inset data in index\n",
    "index = pc.Index(\"simpleindextanmay\")"
   ]
  },
  {
   "cell_type": "code",
   "execution_count": 39,
   "id": "253b0c51-92a4-42d9-baa8-ce9b84e5511b",
   "metadata": {},
   "outputs": [
    {
     "data": {
      "text/plain": [
       "{'upserted_count': 4}"
      ]
     },
     "execution_count": 39,
     "metadata": {},
     "output_type": "execute_result"
    }
   ],
   "source": [
    "index.upsert(\n",
    "    vectors=[\n",
    "        {\"id\": \"vec1\", \"values\": [0.1,0.1,0.1,0.1,0.1,0.1,0.1,0.1]},\n",
    "        {\"id\": \"vec2\", \"values\": [0.2,0.2,0.2,0.2,0.2,0.2,0.2,0.2]},\n",
    "        {\"id\": \"vec3\", \"values\": [0.3,0.3,0.3,0.3,0.3,0.3,0.3,0.3]},\n",
    "        {\"id\": \"vec4\", \"values\": [0.4,0.4,0.4,0.4,0.4,0.4,0.4,0.4]},\n",
    "    ],\n",
    "    namespace=\"ns1\"\n",
    ")\n",
    "index.upsert(\n",
    "    vectors=[\n",
    "        {\"id\": \"vec5\", \"values\": [0.5,0.5,0.5,0.5,0.5,0.5,0.5,0.5]},\n",
    "        {\"id\": \"vec6\", \"values\": [0.6,0.6,0.6,0.6,0.6,0.6,0.6,0.6]},\n",
    "        {\"id\": \"vec7\", \"values\": [0.7,0.7,0.7,0.7,0.7,0.7,0.7,0.7]},\n",
    "        {\"id\": \"vec8\", \"values\": [0.8,0.8,0.8,0.8,0.8,0.8,0.8,0.8]},\n",
    "    ],\n",
    "    namespace=\"ns2\"\n",
    ")"
   ]
  },
  {
   "cell_type": "code",
   "execution_count": 40,
   "id": "a60a93fe-61d6-445f-b42b-8454d9e7e2e3",
   "metadata": {},
   "outputs": [
    {
     "data": {
      "text/plain": [
       "{'dimension': 8,\n",
       " 'index_fullness': 0.0,\n",
       " 'namespaces': {'ns1': {'vector_count': 4}, 'ns2': {'vector_count': 4}},\n",
       " 'total_vector_count': 8}"
      ]
     },
     "execution_count": 40,
     "metadata": {},
     "output_type": "execute_result"
    }
   ],
   "source": [
    "# cecking stats of the the vector\n",
    "index.describe_index_stats()"
   ]
  },
  {
   "cell_type": "code",
   "execution_count": 43,
   "id": "500c9fa5-5cc7-47b8-8afe-8e522dbce572",
   "metadata": {},
   "outputs": [
    {
     "data": {
      "text/plain": [
       "{'matches': [{'id': 'vec7',\n",
       "              'score': 0.0,\n",
       "              'values': [0.7, 0.7, 0.7, 0.7, 0.7, 0.7, 0.7, 0.7]},\n",
       "             {'id': 'vec6',\n",
       "              'score': 0.0799999237,\n",
       "              'values': [0.6, 0.6, 0.6, 0.6, 0.6, 0.6, 0.6, 0.6]}],\n",
       " 'namespace': 'ns2',\n",
       " 'usage': {'read_units': 6}}"
      ]
     },
     "execution_count": 43,
     "metadata": {},
     "output_type": "execute_result"
    }
   ],
   "source": [
    "# query index\n",
    "index.query(\n",
    "    namespace=\"ns2\",\n",
    "    vector=[0.7,0.7,0.7,0.7,0.7,0.7,0.7,0.7],\n",
    "    top_k=2,\n",
    "    include_values=True\n",
    ")"
   ]
  },
  {
   "cell_type": "code",
   "execution_count": 61,
   "id": "fd6b1c91-43d4-4518-81b6-99d5d900b0d1",
   "metadata": {},
   "outputs": [],
   "source": [
    "pc.delete_index(\"pinecone-index-2-new\")\n",
    "# Then proceed with creating the new index\n"
   ]
  },
  {
   "cell_type": "code",
   "execution_count": 62,
   "id": "4020c11a-98e1-4762-b14b-533d2ec9c6d6",
   "metadata": {},
   "outputs": [
    {
     "data": {
      "text/plain": [
       "{'indexes': [{'deletion_protection': 'disabled',\n",
       "              'dimension': 8,\n",
       "              'host': 'pinecone-index-2-6d19se4.svc.aped-4627-b74a.pinecone.io',\n",
       "              'metric': 'euclidean',\n",
       "              'name': 'pinecone-index-2',\n",
       "              'spec': {'serverless': {'cloud': 'aws', 'region': 'us-east-1'}},\n",
       "              'status': {'ready': True, 'state': 'Ready'}},\n",
       "             {'deletion_protection': 'disabled',\n",
       "              'dimension': 1536,\n",
       "              'host': 'my-index-tanmay-6d19se4.svc.aped-4627-b74a.pinecone.io',\n",
       "              'metric': 'euclidean',\n",
       "              'name': 'my-index-tanmay',\n",
       "              'spec': {'serverless': {'cloud': 'aws', 'region': 'us-east-1'}},\n",
       "              'status': {'ready': True, 'state': 'Ready'}},\n",
       "             {'deletion_protection': 'disabled',\n",
       "              'dimension': 8,\n",
       "              'host': 'simpleindextanmay-6d19se4.svc.aped-4627-b74a.pinecone.io',\n",
       "              'metric': 'euclidean',\n",
       "              'name': 'simpleindextanmay',\n",
       "              'spec': {'serverless': {'cloud': 'aws', 'region': 'us-east-1'}},\n",
       "              'status': {'ready': True, 'state': 'Ready'}}]}"
      ]
     },
     "execution_count": 62,
     "metadata": {},
     "output_type": "execute_result"
    }
   ],
   "source": [
    "pc.list_indexes()"
   ]
  },
  {
   "cell_type": "code",
   "execution_count": 66,
   "id": "eabf4189-b9e3-4922-b452-082c494d099c",
   "metadata": {},
   "outputs": [],
   "source": [
    "pc.delete_index(\"pinecone-index-2-new\")"
   ]
  },
  {
   "cell_type": "code",
   "execution_count": 67,
   "id": "c87b4fbe-84e7-4263-9809-d8e09b118dcb",
   "metadata": {},
   "outputs": [
    {
     "data": {
      "text/plain": [
       "{'upserted_count': 4}"
      ]
     },
     "execution_count": 67,
     "metadata": {},
     "output_type": "execute_result"
    }
   ],
   "source": [
    "if \"pinecone-index-2-new\" not in pc.list_indexes():\n",
    "    pc.create_index(\n",
    "        name=\"pinecone-index-2-new\",\n",
    "        dimension=8,\n",
    "        metric=\"euclidean\",\n",
    "        spec=ServerlessSpec(\n",
    "            cloud=\"aws\",\n",
    "            region=\"us-east-1\"\n",
    "        )\n",
    "    )\n",
    "\n",
    "index = pc.Index(\"pinecone-index-2-new\")  # Ensure this matches the created index name\n",
    "\n",
    "index.upsert(\n",
    "    vectors=[\n",
    "        {\n",
    "            \"id\": \"A\",\n",
    "            \"values\": [0.1, 0.1, 0.1, 0.1, 0.1, 0.1, 0.1, 0.1],\n",
    "            \"metadata\": {\"genre\": \"comedy\", \"year\": 2020}\n",
    "        },\n",
    "        {\n",
    "            \"id\": \"B\",\n",
    "            \"values\": [0.2, 0.2, 0.2, 0.2, 0.2, 0.2, 0.2, 0.2],\n",
    "            \"metadata\": {\"genre\": \"documentary\", \"year\": 2019}\n",
    "        },\n",
    "        {\n",
    "            \"id\": \"C\",\n",
    "            \"values\": [0.3, 0.3, 0.3, 0.3, 0.3, 0.3, 0.3, 0.3],\n",
    "            \"metadata\": {\"genre\": \"comedy\", \"year\": 2019}\n",
    "        },\n",
    "        {\n",
    "            \"id\": \"D\",\n",
    "            \"values\": [0.4, 0.4, 0.4, 0.4, 0.4, 0.4, 0.4, 0.4],\n",
    "            \"metadata\": {\"genre\": \"drama\"}\n",
    "        }\n",
    "    ]\n",
    ")\n"
   ]
  },
  {
   "cell_type": "code",
   "execution_count": 68,
   "id": "77897ff5-4c00-45c6-8b22-8d2745140052",
   "metadata": {},
   "outputs": [
    {
     "data": {
      "text/plain": [
       "{'matches': [], 'namespace': '', 'usage': {'read_units': 1}}"
      ]
     },
     "execution_count": 68,
     "metadata": {},
     "output_type": "execute_result"
    }
   ],
   "source": [
    "index.query(\n",
    "    vector=[0.1, 0.1, 0.1, 0.1, 0.1, 0.1, 0.1, 0.1],\n",
    "    filter={\n",
    "        \"genre\": {\"$eq\": \"documentry\"},\n",
    "        \"year\": 2019\n",
    "    },\n",
    "    top_k=1,\n",
    "    include_metadata=True\n",
    ")"
   ]
  },
  {
   "cell_type": "code",
   "execution_count": 72,
   "id": "a14400cc-a364-4947-a015-6d2cfd1f72d0",
   "metadata": {},
   "outputs": [
    {
     "data": {
      "text/plain": [
       "{'deletion_protection': 'disabled',\n",
       " 'dimension': 8,\n",
       " 'host': 'pinecone-index-2-6d19se4.svc.aped-4627-b74a.pinecone.io',\n",
       " 'metric': 'euclidean',\n",
       " 'name': 'pinecone-index-2',\n",
       " 'spec': {'serverless': {'cloud': 'aws', 'region': 'us-east-1'}},\n",
       " 'status': {'ready': True, 'state': 'Ready'}}"
      ]
     },
     "execution_count": 72,
     "metadata": {},
     "output_type": "execute_result"
    }
   ],
   "source": [
    "pc.describe_index(\"pinecone-index-2\")"
   ]
  },
  {
   "cell_type": "code",
   "execution_count": null,
   "id": "db0f6533-0fda-4d4a-be24-5d0eb9f60603",
   "metadata": {},
   "outputs": [],
   "source": []
  },
  {
   "cell_type": "code",
   "execution_count": null,
   "id": "6894644c-aeed-4144-9a59-e4ad7cc8cc68",
   "metadata": {},
   "outputs": [],
   "source": []
  }
 ],
 "metadata": {
  "kernelspec": {
   "display_name": "Python 3 (ipykernel)",
   "language": "python",
   "name": "python3"
  },
  "language_info": {
   "codemirror_mode": {
    "name": "ipython",
    "version": 3
   },
   "file_extension": ".py",
   "mimetype": "text/x-python",
   "name": "python",
   "nbconvert_exporter": "python",
   "pygments_lexer": "ipython3",
   "version": "3.11.7"
  }
 },
 "nbformat": 4,
 "nbformat_minor": 5
}
